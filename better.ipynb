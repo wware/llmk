{
 "cells": [
  {
   "cell_type": "markdown",
   "id": "80570a1d-5b3f-4a80-9fd4-9803f01eefd7",
   "metadata": {},
   "source": [
    "# Let's try this LLM thing again\n",
    "This time we will try to put the chat right into the sequence of notebook cells."
   ]
  },
  {
   "cell_type": "code",
   "execution_count": 2,
   "id": "dbe818e5-649a-412d-874a-11b58483fbad",
   "metadata": {},
   "outputs": [],
   "source": [
    "def dumb_factorial(n):\n",
    "    if not isinstance(n, int):\n",
    "        raise TypeError(n)\n",
    "    if n < 0:\n",
    "        raise ValueError(n)\n",
    "    if n < 2:\n",
    "        return 1\n",
    "    return n * dumb_factorial(n-1)"
   ]
  },
  {
   "cell_type": "code",
   "execution_count": null,
   "id": "db0a49f7-aecf-4832-99df-adc6749671df",
   "metadata": {},
   "outputs": [
    {
     "data": {
      "application/javascript": [
       "document.body.dispatchEvent(new KeyboardEvent('keydown', {key:'s', keyCode: 83, ctrlKey: true}))"
      ],
      "text/plain": [
       "<IPython.core.display.Javascript object>"
      ]
     },
     "metadata": {},
     "output_type": "display_data"
    },
    {
     "data": {
      "text/markdown": [
       "Just a moment, thinking..."
      ],
      "text/plain": [
       "<IPython.core.display.Markdown object>"
      ]
     },
     "metadata": {},
     "output_type": "display_data"
    }
   ],
   "source": [
    "from better import llm_chat\n",
    "llm_chat(\"\"\"\n",
    "Propose pytest test cases for this code. Run them to be certain they pass.\n",
    "\"\"\")"
   ]
  },
  {
   "cell_type": "code",
   "execution_count": null,
   "id": "a3c98d6e-28fe-430a-94c4-1c78c18acdcb",
   "metadata": {},
   "outputs": [],
   "source": [
    "def test_positive_int():\n",
    "    assert dumb_factorial(5) == 120\n",
    "\n",
    "def test_larger_int():\n",
    "    assert dumb_factorial(12) == 479001600\n",
    "\n",
    "def test_negative_int():\n",
    "    with pytest.raises(ValueError):\n",
    "        dumb_factorial(-5)\n",
    "\n",
    "def test_non_integer_input():\n",
    "    with pytest.raises(TypeError):\n",
    "        dumb_factorial(\"hello\")"
   ]
  },
  {
   "cell_type": "code",
   "execution_count": null,
   "id": "9b6f4614-5ff0-4b2a-a065-0c6601dd4093",
   "metadata": {},
   "outputs": [],
   "source": [
    "import ipytest\n",
    "ipytest.run()"
   ]
  },
  {
   "cell_type": "code",
   "execution_count": null,
   "id": "8227849d-3e5e-4bc2-9d04-8a080f4d4f26",
   "metadata": {},
   "outputs": [],
   "source": []
  }
 ],
 "metadata": {
  "kernelspec": {
   "display_name": "Python 3 (ipykernel)",
   "language": "python",
   "name": "python3"
  },
  "language_info": {
   "codemirror_mode": {
    "name": "ipython",
    "version": 3
   },
   "file_extension": ".py",
   "mimetype": "text/x-python",
   "name": "python",
   "nbconvert_exporter": "python",
   "pygments_lexer": "ipython3",
   "version": "3.11.6"
  }
 },
 "nbformat": 4,
 "nbformat_minor": 5
}
