{
 "cells": [
  {
   "cell_type": "markdown",
   "id": "80570a1d-5b3f-4a80-9fd4-9803f01eefd7",
   "metadata": {},
   "source": [
    "# Let's try this LLM thing again\n",
    "This time we will try to put the chat right into the sequence of notebook cells."
   ]
  },
  {
   "cell_type": "code",
   "execution_count": 29,
   "id": "dbe818e5-649a-412d-874a-11b58483fbad",
   "metadata": {},
   "outputs": [],
   "source": [
    "def dumb_factorial(n):\n",
    "    if not isinstance(n, int):\n",
    "        raise TypeError(n)\n",
    "    if n < 0:\n",
    "        raise ValueError(n)\n",
    "    if n < 2:\n",
    "        return 1\n",
    "    return n * dumb_factorial(n-1)"
   ]
  },
  {
   "cell_type": "code",
   "execution_count": null,
   "id": "db0a49f7-aecf-4832-99df-adc6749671df",
   "metadata": {},
   "outputs": [
    {
     "data": {
      "application/javascript": [
       "document.body.dispatchEvent(new KeyboardEvent('keydown', {key:'s', keyCode: 83, ctrlKey: true}))"
      ],
      "text/plain": [
       "<IPython.core.display.Javascript object>"
      ]
     },
     "metadata": {},
     "output_type": "display_data"
    }
   ],
   "source": [
    "from better import llm_chat\n",
    "llm_chat(\"\"\"\n",
    "Propose pytest test cases for this code. Run them to be certain they pass.\n",
    "\"\"\")"
   ]
  },
  {
   "cell_type": "code",
   "execution_count": 27,
   "id": "a3c98d6e-28fe-430a-94c4-1c78c18acdcb",
   "metadata": {},
   "outputs": [],
   "source": [
    "def test_positive_int():\n",
    "    assert dumb_factorial(5) == 120\n",
    "\n",
    "def test_larger_int():\n",
    "    assert dumb_factorial(12) == 479001600\n",
    "\n",
    "def test_negative_int():\n",
    "    with pytest.raises(ValueError):\n",
    "        dumb_factorial(-5)\n",
    "\n",
    "def test_non_integer_input():\n",
    "    with pytest.raises(TypeError):\n",
    "        dumb_factorial(\"hello\")"
   ]
  },
  {
   "cell_type": "code",
   "execution_count": 28,
   "id": "9b6f4614-5ff0-4b2a-a065-0c6601dd4093",
   "metadata": {},
   "outputs": [
    {
     "name": "stdout",
     "output_type": "stream",
     "text": [
      "\u001b[1m======================================= test session starts ========================================\u001b[0m\n",
      "platform linux -- Python 3.11.6, pytest-8.3.4, pluggy-1.5.0\n",
      "rootdir: /home/jovyan\n",
      "plugins: anyio-4.0.0\n",
      "collected 4 items\n",
      "\n",
      "t_b76ef327d73c4f528dcd95250661ea04.py \u001b[32m.\u001b[0m\u001b[32m.\u001b[0m\u001b[32m.\u001b[0m\u001b[32m.\u001b[0m\u001b[32m                                                   [100%]\u001b[0m\n",
      "\n",
      "\u001b[32m======================================== \u001b[32m\u001b[1m4 passed\u001b[0m\u001b[32m in 0.02s\u001b[0m\u001b[32m =========================================\u001b[0m\n"
     ]
    },
    {
     "data": {
      "text/plain": [
       "<ExitCode.OK: 0>"
      ]
     },
     "execution_count": 28,
     "metadata": {},
     "output_type": "execute_result"
    }
   ],
   "source": [
    "import ipytest\n",
    "ipytest.run()"
   ]
  }
 ],
 "metadata": {
  "kernelspec": {
   "display_name": "Python 3 (ipykernel)",
   "language": "python",
   "name": "python3"
  },
  "language_info": {
   "codemirror_mode": {
    "name": "ipython",
    "version": 3
   },
   "file_extension": ".py",
   "mimetype": "text/x-python",
   "name": "python",
   "nbconvert_exporter": "python",
   "pygments_lexer": "ipython3",
   "version": "3.11.6"
  }
 },
 "nbformat": 4,
 "nbformat_minor": 5
}
