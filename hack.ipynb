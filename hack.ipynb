{
 "cells": [
  {
   "cell_type": "markdown",
   "id": "c97ba6b1-0c44-47ae-a36f-336d99d38343",
   "metadata": {},
   "source": [
    "# howdy there\n",
    "let's try this thing out"
   ]
  },
  {
   "cell_type": "code",
   "execution_count": 1,
   "id": "129106a6-1f57-4f24-a8f5-453bb435864e",
   "metadata": {},
   "outputs": [
    {
     "name": "stdout",
     "output_type": "stream",
     "text": [
      "And we are chatting: here is my whatsy-whosis"
     ]
    }
   ],
   "source": [
    "here is my whatsy-whosis"
   ]
  },
  {
   "cell_type": "code",
   "execution_count": null,
   "id": "633b9fe3-b5fe-49f5-8923-b467777c746d",
   "metadata": {},
   "outputs": [],
   "source": []
  }
 ],
 "metadata": {
  "kernelspec": {
   "display_name": "LLM chat",
   "language": "text",
   "name": "llmk"
  },
  "language_info": {
   "file_extension": ".txt",
   "mimetype": "text/plain",
   "name": "text"
  }
 },
 "nbformat": 4,
 "nbformat_minor": 5
}
